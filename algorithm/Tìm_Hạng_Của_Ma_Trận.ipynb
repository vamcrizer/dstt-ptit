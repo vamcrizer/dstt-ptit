{
 "cells": [
  {
   "cell_type": "code",
   "execution_count": 4,
   "metadata": {},
   "outputs": [
    {
     "name": "stdout",
     "output_type": "stream",
     "text": [
      "Nhập các phần tử của ma trận:\n",
      "Ma trận RREF:\n",
      "Hạng của ma trận: 2\n"
     ]
    },
    {
     "data": {
      "text/latex": [
       "$\\displaystyle \\left[\\begin{matrix}1 & 0 & -1\\\\0 & 1 & 2\\\\0 & 0 & 0\\end{matrix}\\right]$"
      ],
      "text/plain": [
       "Matrix([\n",
       "[1, 0, -1],\n",
       "[0, 1,  2],\n",
       "[0, 0,  0]])"
      ]
     },
     "execution_count": 4,
     "metadata": {},
     "output_type": "execute_result"
    }
   ],
   "source": [
    "from sympy import Matrix\n",
    "\n",
    "# Hàm nhập ma trận\n",
    "def input_matrix():\n",
    "    rows = int(input(\"Nhập số hàng của ma trận: \"))\n",
    "    cols = int(input(\"Nhập số cột của ma trận: \"))\n",
    "    \n",
    "    print(\"Nhập các phần tử của ma trận:\")\n",
    "    matrix = []\n",
    "    for i in range(rows):\n",
    "        row = []\n",
    "        for j in range(cols):\n",
    "            element = int(input(f\"Nhập phần tử ở hàng {i+1}, cột {j+1}: \"))\n",
    "            row.append(element)\n",
    "        matrix.append(row)\n",
    "    \n",
    "    return Matrix(matrix)\n",
    "\n",
    "# Khởi tạo ma trận\n",
    "M = input_matrix()\n",
    "\n",
    "# Biến đổi ma trận về dạng RREF\n",
    "RREF, pivot_columns = M.rref()\n",
    "\n",
    "# Tính hạng của ma trận\n",
    "rank = len(pivot_columns)\n",
    "\n",
    "print(\"Ma trận sau khi biến đổi về dạng bậc thang:\")\n",
    "print(f\"Hạng của ma trận: {rank}\")\n",
    "RREF\n",
    "\n"
   ]
  }
 ],
 "metadata": {
  "kernelspec": {
   "display_name": "Python 3",
   "language": "python",
   "name": "python3"
  },
  "language_info": {
   "codemirror_mode": {
    "name": "ipython",
    "version": 3
   },
   "file_extension": ".py",
   "mimetype": "text/x-python",
   "name": "python",
   "nbconvert_exporter": "python",
   "pygments_lexer": "ipython3",
   "version": "3.10.0"
  }
 },
 "nbformat": 4,
 "nbformat_minor": 2
}
