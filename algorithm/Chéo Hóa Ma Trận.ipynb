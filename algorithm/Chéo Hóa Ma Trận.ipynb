{
 "cells": [
  {
   "cell_type": "code",
   "execution_count": 94,
   "metadata": {},
   "outputs": [
    {
     "name": "stdout",
     "output_type": "stream",
     "text": [
      "\\lambda^{2} - 5 \\lambda - 2\n",
      "\\mathtt{\\text{ = 0}}\n",
      "Nghiệm của phương trình đặc trưng là:  \\left[ \\frac{5}{2} - \\frac{\\sqrt{33}}{2}, \\  \\frac{5}{2} + \\frac{\\sqrt{33}}{2}\\right]\n",
      "Tìm vector riêng cho trị riêng:  \\frac{5}{2} - \\frac{\\sqrt{33}}{2}\n",
      "Vector riêng:  \\left[\\begin{matrix}- \\frac{\\sqrt{33}}{6} - \\frac{1}{2}\\\\1\\end{matrix}\\right]\n",
      "Tìm vector riêng cho trị riêng:  \\frac{5}{2} + \\frac{\\sqrt{33}}{2}\n",
      "Vector riêng:  \\left[\\begin{matrix}- \\frac{1}{2} + \\frac{\\sqrt{33}}{6}\\\\1\\end{matrix}\\right]\n",
      "\\mathtt{\\text{Ma trận P:}}\n",
      "\\mathtt{\\text{Áp dụng công thức D = P\\textasciicircum-1AP}}\n",
      "\\left[\\begin{matrix}\\frac{5}{2} - \\frac{\\sqrt{33}}{2} & 0\\\\0 & \\frac{5}{2} + \\frac{\\sqrt{33}}{2}\\end{matrix}\\right]\n"
     ]
    }
   ],
   "source": [
    "from sympy import symbols, Matrix, solve, latex\n",
    "\n",
    "# Nhập kích thước của ma trận nxn\n",
    "n = int(input(\"Nhập kích thước của ma trận nxn: \"))\n",
    "\n",
    "# Tạo ma trận M\n",
    "M = Matrix(n, n, lambda i, j: int(input(\"Nhập phần tử ở hàng \" + str(i+1) + \" và cột \" + str(j+1) + \": \")))\n",
    "P, D = M.diagonalize()\n",
    "# Tính phương trình đặc trung\n",
    "lamda = symbols('lamda')\n",
    "p = M.charpoly(lamda)\n",
    "print(latex(factor(p.as_expr())))\n",
    "print(latex(\" = 0\"))\n",
    "\n",
    "# Giải phương trình đặc trung và in ra nghiệm\n",
    "solution = solve(p, lamda)\n",
    "print(\"Nghiệm của phương trình đặc trưng là: \", latex(solution))\n",
    "\n",
    "# Tìm vector riêng cho mỗi trị riêng\n",
    "for sol in solution:\n",
    "    print(\"Tìm vector riêng cho trị riêng: \", latex(sol))\n",
    "    # Tạo ma trận A - lamda*I\n",
    "    A_lamda_I = M - sol*eye(n)\n",
    "    # Giải hệ phương trình (A - lamda*I)v = 0 để tìm vector riêng\n",
    "    vec = A_lamda_I.nullspace()\n",
    "    vec = [simplify(v) for v in vec]\n",
    "    for v in vec:\n",
    "        print(\"Vector riêng: \", latex(v))\n",
    "print(latex(\"Ma trận P:\"))\n",
    "print(latex(\"Áp dụng công thức D = P^-1AP\"))\n",
    "print(latex(D))\n",
    "    \n",
    "\n"
   ]
  }
 ],
 "metadata": {
  "kernelspec": {
   "display_name": "Python 3",
   "language": "python",
   "name": "python3"
  },
  "language_info": {
   "codemirror_mode": {
    "name": "ipython",
    "version": 3
   },
   "file_extension": ".py",
   "mimetype": "text/x-python",
   "name": "python",
   "nbconvert_exporter": "python",
   "pygments_lexer": "ipython3",
   "version": "3.12.2"
  }
 },
 "nbformat": 4,
 "nbformat_minor": 2
}
