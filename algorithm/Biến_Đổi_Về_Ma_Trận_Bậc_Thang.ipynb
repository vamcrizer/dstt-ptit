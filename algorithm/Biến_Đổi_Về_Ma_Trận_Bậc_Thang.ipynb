{
 "cells": [
  {
   "cell_type": "code",
   "execution_count": 6,
   "metadata": {},
   "outputs": [
    {
     "name": "stdout",
     "output_type": "stream",
     "text": [
      "Nhập các phần tử của ma trận:\n",
      "Matrix([[1, 0], [0, 1]])\n"
     ]
    }
   ],
   "source": [
    "from sympy import Matrix\n",
    "\n",
    "# Hàm nhập ma trận\n",
    "def input_matrix():\n",
    "    rows = int(input(\"Nhập số hàng của ma trận: \"))\n",
    "    cols = int(input(\"Nhập số cột của ma trận: \"))\n",
    "    \n",
    "    print(\"Nhập các phần tử của ma trận:\")\n",
    "    matrix = []\n",
    "    for i in range(rows):\n",
    "        row = []\n",
    "        for j in range(cols):\n",
    "            element = float(input(f\"Nhập phần tử ở hàng {i+1}, cột {j+1}: \"))\n",
    "            row.append(element)\n",
    "        matrix.append(row)\n",
    "    \n",
    "    return Matrix(matrix)\n",
    "\n",
    "# Khởi tạo ma trận\n",
    "M = input_matrix()\n",
    "\n",
    "# Biến đổi ma trận về dạng RREF\n",
    "RREF, pivot_columns = M.rref()\n",
    "\n",
    "RREF\n"
   ]
  }
 ],
 "metadata": {
  "kernelspec": {
   "display_name": "Python 3",
   "language": "python",
   "name": "python3"
  },
  "language_info": {
   "codemirror_mode": {
    "name": "ipython",
    "version": 3
   },
   "file_extension": ".py",
   "mimetype": "text/x-python",
   "name": "python",
   "nbconvert_exporter": "python",
   "pygments_lexer": "ipython3",
   "version": "3.10.0"
  }
 },
 "nbformat": 4,
 "nbformat_minor": 2
}
